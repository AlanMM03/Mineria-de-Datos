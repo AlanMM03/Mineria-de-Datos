{
 "cells": [
  {
   "cell_type": "code",
   "execution_count": 3,
   "metadata": {},
   "outputs": [],
   "source": [
    "from scipy import stats"
   ]
  },
  {
   "cell_type": "markdown",
   "metadata": {},
   "source": [
    "# Problema 1: Control de Calidad en una Fábrica de Tornillos\n",
    "Una fábrica de tornillos afirma que el diámetro promedio de sus tornillos es de 10 mm. \n",
    "Se toma una muestra aleatoria de 49 tornillos, obteniéndose un diámetro promedio de 9.7 mm con una desviación estándar de 0.5 mm.  \n",
    "\n",
    "¿Se puede concluir, con un nivel de significancia del 1%, que el diámetro medio es menor al teórico de 10 mm?  \n"
   ]
  },
  {
   "cell_type": "code",
   "execution_count": 6,
   "metadata": {},
   "outputs": [
    {
     "name": "stdout",
     "output_type": "stream",
     "text": [
      "Estadístico Z: -4.2000\n",
      "Valor p: 0.0000\n",
      "Rechazamos la hipótesis nula: el diámetro promedio es menor a 10 mm.\n"
     ]
    }
   ],
   "source": [
    "# Datos del problema\n",
    "n = 49\n",
    "x_bar = 9.7\n",
    "mu_0 = 10\n",
    "s = 0.5\n",
    "alpha = 0.01\n",
    "\n",
    "# Estadístico de prueba (Z)\n",
    "z_stat = (x_bar - mu_0) / (s / (n ** 0.5))\n",
    "\n",
    "# Valor p (prueba de una cola izquierda)\n",
    "p_value = stats.norm.cdf(z_stat)\n",
    "\n",
    "# Resultados\n",
    "print(f'Estadístico Z: {z_stat:.4f}')\n",
    "print(f'Valor p: {p_value:.4f}')\n",
    "\n",
    "if p_value < alpha:\n",
    "    print(\"Rechazamos la hipótesis nula: el diámetro promedio es menor a 10 mm.\")\n",
    "else:\n",
    "    print(\"No hay evidencia suficiente para rechazar la hipótesis nula.\")\n"
   ]
  },
  {
   "cell_type": "markdown",
   "metadata": {},
   "source": [
    "# Problema 2: Duración de Baterías de Celulares\n",
    "Un fabricante de celulares asegura que la duración promedio de sus baterías es de 20 horas. Se toma una muestra de 30 baterías y se encuentra que su duración promedio es de 18.5 horas, con una desviación estándar de 2.5 horas.  \n",
    "\n",
    "Con un nivel de significancia del 5%, ¿se puede concluir que la duración de las baterías es menor a la especificada por el fabricante?  \n"
   ]
  },
  {
   "cell_type": "code",
   "execution_count": 5,
   "metadata": {},
   "outputs": [
    {
     "name": "stdout",
     "output_type": "stream",
     "text": [
      "Estadístico t: -3.2863\n",
      "Valor p: 0.0013\n",
      "Rechazamos la hipótesis nula: la duración de las baterías es menor a 20 horas.\n"
     ]
    }
   ],
   "source": [
    "# Datos del problema\n",
    "n = 30\n",
    "x_bar = 18.5\n",
    "mu_0 = 20\n",
    "s = 2.5\n",
    "alpha = 0.05\n",
    "\n",
    "# Estadístico de prueba (t)\n",
    "t_stat = (x_bar - mu_0) / (s / (n ** 0.5))\n",
    "\n",
    "# Valor p (prueba de una cola izquierda)\n",
    "p_value = stats.t.cdf(t_stat, df=n-1)\n",
    "\n",
    "# Resultados\n",
    "print(f'Estadístico t: {t_stat:.4f}')\n",
    "print(f'Valor p: {p_value:.4f}')\n",
    "\n",
    "if p_value < alpha:\n",
    "    print(\"Rechazamos la hipótesis nula: la duración de las baterías es menor a 20 horas.\")\n",
    "else:\n",
    "    print(\"No hay evidencia suficiente para rechazar la hipótesis nula.\")\n"
   ]
  },
  {
   "cell_type": "markdown",
   "metadata": {},
   "source": [
    "# Problema 3: Control de Peso en una Planta de Alimentos\n",
    "Un productor de harina en bolsa indica que el peso promedio de sus bolsas es de 1 kg (1000 gramos). Para verificarlo, se toman 40 bolsas y se obtiene un peso promedio de 990 gramos, con una desviación estándar de 12 gramos.  \n",
    "\n",
    "Si se usa un nivel de significancia del 2%, ¿se puede concluir que las bolsas tienen un peso menor al anunciado?"
   ]
  },
  {
   "cell_type": "code",
   "execution_count": 4,
   "metadata": {},
   "outputs": [
    {
     "name": "stdout",
     "output_type": "stream",
     "text": [
      "Estadístico t: -5.2705\n",
      "Valor p: 0.0000\n",
      "Rechazamos la hipótesis nula: el peso promedio de las bolsas es menor a 1000 g.\n"
     ]
    }
   ],
   "source": [
    "# Datos del problema\n",
    "n = 40\n",
    "x_bar = 990\n",
    "mu_0 = 1000\n",
    "s = 12\n",
    "alpha = 0.02\n",
    "\n",
    "# Estadístico de prueba (t)\n",
    "t_stat = (x_bar - mu_0) / (s / (n ** 0.5))\n",
    "\n",
    "# Valor p (prueba de una cola izquierda)\n",
    "p_value = stats.t.cdf(t_stat, df=n-1)\n",
    "\n",
    "# Resultados\n",
    "print(f'Estadístico t: {t_stat:.4f}')\n",
    "print(f'Valor p: {p_value:.4f}')\n",
    "\n",
    "if p_value < alpha:\n",
    "    print(\"Rechazamos la hipótesis nula: el peso promedio de las bolsas es menor a 1000 g.\")\n",
    "else:\n",
    "    print(\"No hay evidencia suficiente para rechazar la hipótesis nula.\")\n"
   ]
  }
 ],
 "metadata": {
  "kernelspec": {
   "display_name": "Python 3",
   "language": "python",
   "name": "python3"
  },
  "language_info": {
   "codemirror_mode": {
    "name": "ipython",
    "version": 3
   },
   "file_extension": ".py",
   "mimetype": "text/x-python",
   "name": "python",
   "nbconvert_exporter": "python",
   "pygments_lexer": "ipython3",
   "version": "3.13.2"
  }
 },
 "nbformat": 4,
 "nbformat_minor": 2
}
