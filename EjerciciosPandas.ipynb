{
 "cells": [
  {
   "cell_type": "code",
   "execution_count": 21,
   "metadata": {},
   "outputs": [],
   "source": [
    "import pandas as pd\n",
    "import numpy as np"
   ]
  },
  {
   "cell_type": "markdown",
   "metadata": {},
   "source": [
    "Registro de temperaturas: Se necesita crear un registro que contenga las temperaturas promedio de una ciudad durante 7 días. La serie debe incluir los días de la semana como índice y las temperaturas como valores. Luego, calcula la temperatura promedio de la semana."
   ]
  },
  {
   "cell_type": "code",
   "execution_count": 14,
   "metadata": {},
   "outputs": [
    {
     "name": "stdout",
     "output_type": "stream",
     "text": [
      "Temperaturas: [45 32 26 18 45 45 43]\n",
      "El promedio de las temperaturas es: 36.29\n"
     ]
    }
   ],
   "source": [
    "datosT=[]\n",
    "datosT=np.random.randint(10,50,7)\n",
    "print(f\"Temperaturas: {datosT}\")\n",
    "temp=pd.Series(datosT,index=[\"Lunes\",\"Martes\",\"Miercoles\",\"Jueves\",\"Viernes\",\"Sabado\",\"Domingo\"])\n",
    "prom=temp.mean()\n",
    "print(f\"El promedio de las temperaturas es: {prom:.2f}\")"
   ]
  },
  {
   "cell_type": "markdown",
   "metadata": {},
   "source": [
    "Inventario de productos: Crea una serie que represente el inventario de una tienda, donde el índice sea el nombre del producto y los valores sean la cantidad disponible en stock. Luego, filtra los productos que tienen menos de 10 unidades en stock."
   ]
  },
  {
   "cell_type": "code",
   "execution_count": 16,
   "metadata": {},
   "outputs": [
    {
     "name": "stdout",
     "output_type": "stream",
     "text": [
      "Productos de la tienda: \n",
      "coca-cola     9\n",
      "Pepsi         9\n",
      "Jarritos     14\n",
      "Sabritas     14\n",
      "Gansitos     13\n",
      "dtype: int32\n",
      "Productos con menos de 10 en stock: \n",
      "coca-cola    9\n",
      "Pepsi        9\n",
      "dtype: int32\n"
     ]
    }
   ],
   "source": [
    "stock=np.random.randint(1,15,5)\n",
    "tienda=pd.Series(stock,index=[\"coca-cola\",\"Pepsi\",\"Jarritos\",\"Sabritas\",\"Gansitos\"])\n",
    "print(f\"Productos de la tienda: \\n{tienda}\")\n",
    "filtrado=tienda[tienda<10]\n",
    "print(f\"Productos con menos de 10 en stock: \\n{filtrado}\")"
   ]
  },
  {
   "cell_type": "markdown",
   "metadata": {},
   "source": [
    "Precios de productos: Genera una serie que contenga los precios de 5 productos diferentes. Luego, aplica un descuento del 15% a cada producto y muestra la serie actualizada."
   ]
  },
  {
   "cell_type": "code",
   "execution_count": 20,
   "metadata": {},
   "outputs": [
    {
     "name": "stdout",
     "output_type": "stream",
     "text": [
      "Pronductos con el precio normal: \n",
      "coca-cola    16\n",
      "Pepsi        23\n",
      "Jarritos     26\n",
      "Sabritas     18\n",
      "Gansitos     23\n",
      "dtype: int32\n",
      "Productos con el 15% de descuento: \n",
      "coca-cola    13.60\n",
      "Pepsi        19.55\n",
      "Jarritos     22.10\n",
      "Sabritas     15.30\n",
      "Gansitos     19.55\n",
      "dtype: float64\n"
     ]
    }
   ],
   "source": [
    "precio=np.random.randint(10,30,5)\n",
    "tienda=pd.Series(precio,index=[\"coca-cola\",\"Pepsi\",\"Jarritos\",\"Sabritas\",\"Gansitos\"])\n",
    "\n",
    "print(f\"Pronductos con el precio normal: \\n{tienda}\")\n",
    "desc=tienda*.15\n",
    "aplicado=tienda-desc\n",
    "print(f\"Productos con el 15% de descuento: \\n{aplicado}\")"
   ]
  },
  {
   "cell_type": "markdown",
   "metadata": {},
   "source": [
    "Calificaciones de estudiantes: Crea una serie que almacene las calificaciones de 10 estudiantes en un examen. El índice debe ser el nombre del estudiante. Encuentra la calificación más alta y la más baja."
   ]
  },
  {
   "cell_type": "code",
   "execution_count": 25,
   "metadata": {},
   "outputs": [
    {
     "name": "stdout",
     "output_type": "stream",
     "text": [
      "\n",
      "La calificación más alta es: 9\n",
      "La calificación más baja es: 1 \n"
     ]
    }
   ],
   "source": [
    "calif=np.random.randint(1,10,10)\n",
    "estu=pd.Series(calif,index=[\"Alan\",\"Saul\",\"Jonathan\",\"Antonio\",\"Paola\",\"Uriel\",\"Daniela\",\"Nirvana\",\"Ivan\",\"Ernesto\"])\n",
    "\n",
    "alta=np.max(calif)\n",
    "baja=np.min(calif)\n",
    "print(f\"\\nLa calificación más alta es: {alta}\\nLa calificación más baja es: {baja} \")"
   ]
  },
  {
   "cell_type": "markdown",
   "metadata": {},
   "source": [
    "Registro de ventas: Genera una serie que represente las ventas diarias de una tienda durante 5 días. Luego, calcula el total de ventas de la semana y el día con mayores ventas."
   ]
  },
  {
   "cell_type": "code",
   "execution_count": 31,
   "metadata": {},
   "outputs": [
    {
     "name": "stdout",
     "output_type": "stream",
     "text": [
      "Ventas de la semana:\n",
      "Lunes        16\n",
      "Martes       13\n",
      "Miercoles    12\n",
      "Jueves       18\n",
      "Viernes      10\n",
      "dtype: int32\n",
      "\n",
      "Las ventas totales de la semana fuerón: 69\n"
     ]
    }
   ],
   "source": [
    "cant=np.random.randint(10,20,5)\n",
    "ventas=pd.Series(cant,index=[\"Lunes\",\"Martes\",\"Miercoles\",\"Jueves\",\"Viernes\"])\n",
    "\n",
    "sumventas=sum(ventas)\n",
    "print(f\"Ventas de la semana:\\n{ventas}\")\n",
    "print(f\"\\nLas ventas totales de la semana fuerón: {sumventas}\")"
   ]
  },
  {
   "cell_type": "markdown",
   "metadata": {},
   "source": [
    "Comparación de precios: Crea dos series que representen los precios de los mismos productos en dos tiendas diferentes. Compara las series para identificar en qué tienda los productos son más baratos."
   ]
  },
  {
   "cell_type": "code",
   "execution_count": 35,
   "metadata": {},
   "outputs": [
    {
     "name": "stdout",
     "output_type": "stream",
     "text": [
      "Tienda A:\n",
      "coca-cola    32\n",
      "Pepsi        16\n",
      "Jarritos     32\n",
      "Sabritas     43\n",
      "Gansitos     18\n",
      "dtype: int32\n",
      "Tienda B:\n",
      "coca-cola    23\n",
      "Pepsi        16\n",
      "Jarritos     38\n",
      "Sabritas     18\n",
      "Gansitos     28\n",
      "dtype: int32\n",
      "¿Qué productos son más baratos de la tianda A a la tienda B? \n",
      "coca-cola    False\n",
      "Pepsi        False\n",
      "Jarritos      True\n",
      "Sabritas     False\n",
      "Gansitos      True\n",
      "dtype: bool\n"
     ]
    }
   ],
   "source": [
    "preAle=np.random.randint(10,50,5)\n",
    "tiendaA=pd.Series(preAle,index=[\"coca-cola\",\"Pepsi\",\"Jarritos\",\"Sabritas\",\"Gansitos\"])\n",
    "preAle=np.random.randint(10,50,5)\n",
    "tiendaB=pd.Series(preAle,index=[\"coca-cola\",\"Pepsi\",\"Jarritos\",\"Sabritas\",\"Gansitos\"])\n",
    "\n",
    "print(f\"Tienda A:\\n{tiendaA}\\nTienda B:\\n{tiendaB}\")\n",
    "print(f\"¿Qué productos son más baratos de la tianda A a la tienda B? \\n{tiendaA<tiendaB}\",)"
   ]
  },
  {
   "cell_type": "markdown",
   "metadata": {},
   "source": [
    "Suma de series: Genera dos series que representen los ingresos y gastos diarios de una empresa durante 5 días. Luego, crea una tercera serie que muestre el beneficio diario (ingresos - gastos)."
   ]
  },
  {
   "cell_type": "code",
   "execution_count": 37,
   "metadata": {},
   "outputs": [
    {
     "name": "stdout",
     "output_type": "stream",
     "text": [
      "Los ingresos de la empresas son: \n",
      "Lunes        5309\n",
      "Martes       1741\n",
      "Miercoles    2948\n",
      "Jueves       3518\n",
      "Viernes      8597\n",
      "dtype: int32 \n",
      "Los gastos de la empresa son: \n",
      "Lunes        3674\n",
      "Martes       5850\n",
      "Miercoles    4544\n",
      "Jueves       4790\n",
      "Viernes       652\n",
      "dtype: int32\n",
      "Beneficios: \n",
      "Lunes        1635\n",
      "Martes      -4109\n",
      "Miercoles   -1596\n",
      "Jueves      -1272\n",
      "Viernes      7945\n",
      "dtype: int32\n"
     ]
    }
   ],
   "source": [
    "dias=[\"Lunes\",\"Martes\",\"Miercoles\",\"Jueves\",\"Viernes\"]\n",
    "ingresos=pd.Series(np.random.randint(500,10000,5),dias)\n",
    "gastos=pd.Series(np.random.randint(500,8000,5),dias)\n",
    "\n",
    "ben=ingresos-gastos\n",
    "print(f\"Los ingresos de la empresas son: \\n{ingresos} \\nLos gastos de la empresa son: \\n{gastos}\")\n",
    "print(f\"Beneficios: \\n{ben}\")"
   ]
  },
  {
   "cell_type": "markdown",
   "metadata": {},
   "source": [
    "Filtrado de datos: Crea una serie que contenga las edades de 15 personas. Filtra la serie para mostrar solo las edades mayores a 18 años."
   ]
  },
  {
   "cell_type": "code",
   "execution_count": 41,
   "metadata": {},
   "outputs": [
    {
     "name": "stdout",
     "output_type": "stream",
     "text": [
      "Personas mayores a 18 años: \n",
      "Alan         True\n",
      "Saul         True\n",
      "Jonathan     True\n",
      "Antonio      True\n",
      "Paola        True\n",
      "Uriel        True\n",
      "Daniela      True\n",
      "Nirvana      True\n",
      "Ivan        False\n",
      "Ernesto      True\n",
      "Lilian       True\n",
      "Yuliana     False\n",
      "Dana        False\n",
      "Diana        True\n",
      "Fatima       True\n",
      "dtype: bool \n",
      "Cantidad de personas: 15\n"
     ]
    }
   ],
   "source": [
    "names=[\"Alan\",\"Saul\",\"Jonathan\",\"Antonio\",\"Paola\",\"Uriel\",\"Daniela\",\"Nirvana\",\"Ivan\",\"Ernesto\",\"Lilian\",\"Yuliana\",\"Dana\",\"Diana\",\"Fatima\"]\n",
    "personas=pd.Series(np.random.randint(1,74,15),names)\n",
    "\n",
    "print(f\"Personas mayores a 18 años: \\n{personas>18} \\nCantidad de personas: {personas.count()}\")"
   ]
  },
  {
   "cell_type": "markdown",
   "metadata": {},
   "source": [
    "Aplicación de funciones: Genera una serie que contenga los valores de 10 números aleatorios. Aplica una función que eleve al cuadrado cada valor y muestra la serie resultante."
   ]
  },
  {
   "cell_type": "code",
   "execution_count": null,
   "metadata": {},
   "outputs": [
    {
     "name": "stdout",
     "output_type": "stream",
     "text": [
      "Números normales: \n",
      "0    74\n",
      "1    28\n",
      "2    48\n",
      "3    30\n",
      "4    68\n",
      "5    13\n",
      "6     9\n",
      "7    82\n",
      "8    93\n",
      "9    39\n",
      "dtype: int32\n",
      "Números elevados: \n",
      "0    5476\n",
      "1     784\n",
      "2    2304\n",
      "3     900\n",
      "4    4624\n",
      "5     169\n",
      "6      81\n",
      "7    6724\n",
      "8    8649\n",
      "9    1521\n",
      "dtype: int32\n"
     ]
    }
   ],
   "source": [
    "nums=pd.Series(np.random.randint(1,100,10))\n",
    "ele=np.power(nums,2)\n",
    "print(f\"Números normales: \\n{nums}\\nNúmeros elevados: \\n{ele}\")"
   ]
  },
  {
   "cell_type": "markdown",
   "metadata": {},
   "source": [
    "Concatenación de series: Crea dos series que representen las ventas de dos meses diferentes. Concatena las series para obtener un registro completo de ventas de los dos meses."
   ]
  },
  {
   "cell_type": "code",
   "execution_count": 48,
   "metadata": {},
   "outputs": [
    {
     "name": "stdout",
     "output_type": "stream",
     "text": [
      "Ventas totales 1er mes: \n",
      "coca-cola    47\n",
      "Pepsi        32\n",
      "Jarritos     49\n",
      "Sabritas     24\n",
      "Gansitos     16\n",
      "dtype: int32\n",
      "Ventas totales 2do mes: \n",
      "coca-cola    15\n",
      "Pepsi        20\n",
      "Jarritos     24\n",
      "Sabritas     43\n",
      "Gansitos     49\n",
      "dtype: int32 \n",
      "Ventas totales del bimestre: \n",
      "coca-cola    62\n",
      "Pepsi        52\n",
      "Jarritos     73\n",
      "Sabritas     67\n",
      "Gansitos     65\n",
      "dtype: int32\n"
     ]
    }
   ],
   "source": [
    "preAle=np.random.randint(10,50,5)\n",
    "A=pd.Series(preAle,index=[\"coca-cola\",\"Pepsi\",\"Jarritos\",\"Sabritas\",\"Gansitos\"])\n",
    "preAle=np.random.randint(10,50,5)\n",
    "B=pd.Series(preAle,index=[\"coca-cola\",\"Pepsi\",\"Jarritos\",\"Sabritas\",\"Gansitos\"])\n",
    "\n",
    "ventaBi=A+B\n",
    "print(f\"Ventas totales 1er mes: \\n{A}\\nVentas totales 2do mes: \\n{B} \\nVentas totales del bimestre: \\n{ventaBi}\")"
   ]
  }
 ],
 "metadata": {
  "kernelspec": {
   "display_name": "Python 3",
   "language": "python",
   "name": "python3"
  },
  "language_info": {
   "codemirror_mode": {
    "name": "ipython",
    "version": 3
   },
   "file_extension": ".py",
   "mimetype": "text/x-python",
   "name": "python",
   "nbconvert_exporter": "python",
   "pygments_lexer": "ipython3",
   "version": "3.13.2"
  }
 },
 "nbformat": 4,
 "nbformat_minor": 2
}
