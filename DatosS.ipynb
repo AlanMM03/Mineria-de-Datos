{
 "cells": [
  {
   "cell_type": "markdown",
   "metadata": {},
   "source": [
    "## Practica Pandas y Jupyter"
   ]
  },
  {
   "cell_type": "markdown",
   "metadata": {},
   "source": [
    "### Parte 1: Carga y Exploracion de Datos "
   ]
  },
  {
   "cell_type": "markdown",
   "metadata": {},
   "source": [
    "#### 1.1 Carga y Exploracion de Datos "
   ]
  },
  {
   "cell_type": "code",
   "execution_count": 1,
   "metadata": {},
   "outputs": [],
   "source": [
    "import pandas as pd "
   ]
  },
  {
   "cell_type": "code",
   "execution_count": 2,
   "metadata": {},
   "outputs": [],
   "source": [
    "df = pd.read_csv('ModalidadVirtual.csv')"
   ]
  },
  {
   "cell_type": "markdown",
   "metadata": {},
   "source": [
    "#### 1.2 Muestra las primeras 5 filas, las ultimas 5 filas y un resumen estadistico de los datos "
   ]
  },
  {
   "cell_type": "code",
   "execution_count": 3,
   "metadata": {},
   "outputs": [
    {
     "name": "stdout",
     "output_type": "stream",
     "text": [
      "   Unnamed: 0        time                 carrera acepta  \\\n",
      "0           0  2020-11-08  Ingeniería de Sistemas     Si   \n",
      "1           1  2020-11-08              Psicología     Si   \n",
      "2           2  2020-11-08  Ingeniería de Sistemas     Si   \n",
      "3           3  2020-11-08  Ingeniería de Sistemas     Si   \n",
      "4           4  2020-11-08  Ingeniería de Sistemas     Si   \n",
      "\n",
      "                        positivo  \\\n",
      "0              Horario flexible.   \n",
      "1  Acceso desde cualquier lugar.   \n",
      "2              Horario flexible.   \n",
      "3              Horario flexible.   \n",
      "4  Acceso desde cualquier lugar.   \n",
      "\n",
      "                                            negativo  edad    sexo   trabajo  \n",
      "0             Contacto Personal Docente-Estudiantil.    20  Hombre  Eventual  \n",
      "1             Contacto Personal Docente-Estudiantil.    26  Hombre  Eventual  \n",
      "2  Falta de recursos de calidad(plataformas, doce...    20   Mujer        Sí  \n",
      "3                               Conexión a internet.    18   Mujer        No  \n",
      "4             Contacto Personal Docente-Estudiantil.    39  Hombre        Sí  \n"
     ]
    }
   ],
   "source": [
    "print(df.head())"
   ]
  },
  {
   "cell_type": "code",
   "execution_count": 10,
   "metadata": {},
   "outputs": [
    {
     "name": "stdout",
     "output_type": "stream",
     "text": [
      "     Unnamed: 0        time                       carrera acepta  \\\n",
      "217         230  2020-12-10  Gestión Turística y Hotelera     Si   \n",
      "218         231  2020-12-11        Ingeniería de Sistemas     No   \n",
      "219         232  2020-12-11  Gestión Turística y Hotelera     No   \n",
      "220         233  2020-12-11         Ingeniería Agronómica     Si   \n",
      "221         234  2020-12-12        Comercio Internacional     Si   \n",
      "\n",
      "                          positivo  \\\n",
      "217              Horario flexible.   \n",
      "218  Acceso desde cualquier lugar.   \n",
      "219              Horario flexible.   \n",
      "220  Acceso desde cualquier lugar.   \n",
      "221              Horario flexible.   \n",
      "\n",
      "                                              negativo  edad    sexo trabajo  \n",
      "217                               Conexión a internet.    19   Mujer      Sí  \n",
      "218  Falta de recursos de calidad(plataformas, doce...    23   Mujer      No  \n",
      "219  Falta de recursos de calidad(plataformas, doce...    25  Hombre      Sí  \n",
      "220             Contacto Personal Docente-Estudiantil.    20   Mujer      Sí  \n",
      "221  Falta de recursos de calidad(plataformas, doce...    23  Hombre      Sí  \n"
     ]
    }
   ],
   "source": [
    "print(df.tail())"
   ]
  },
  {
   "cell_type": "markdown",
   "metadata": {},
   "source": [
    "### 1.3 Muestra la informacion del Dataframe(tipos de datos, columnas, etc.)"
   ]
  },
  {
   "cell_type": "code",
   "execution_count": 11,
   "metadata": {},
   "outputs": [
    {
     "name": "stdout",
     "output_type": "stream",
     "text": [
      "<class 'pandas.core.frame.DataFrame'>\n",
      "RangeIndex: 222 entries, 0 to 221\n",
      "Data columns (total 9 columns):\n",
      " #   Column      Non-Null Count  Dtype \n",
      "---  ------      --------------  ----- \n",
      " 0   Unnamed: 0  222 non-null    int64 \n",
      " 1   time        222 non-null    object\n",
      " 2   carrera     222 non-null    object\n",
      " 3   acepta      222 non-null    object\n",
      " 4   positivo    222 non-null    object\n",
      " 5   negativo    222 non-null    object\n",
      " 6   edad        222 non-null    int64 \n",
      " 7   sexo        222 non-null    object\n",
      " 8   trabajo     222 non-null    object\n",
      "dtypes: int64(2), object(7)\n",
      "memory usage: 15.7+ KB\n",
      "None\n"
     ]
    }
   ],
   "source": [
    "print(df.info())"
   ]
  },
  {
   "cell_type": "markdown",
   "metadata": {},
   "source": [
    "#### 1.4 Valores faltantes"
   ]
  },
  {
   "cell_type": "code",
   "execution_count": 12,
   "metadata": {},
   "outputs": [
    {
     "name": "stdout",
     "output_type": "stream",
     "text": [
      "Unnamed: 0    0\n",
      "time          0\n",
      "carrera       0\n",
      "acepta        0\n",
      "positivo      0\n",
      "negativo      0\n",
      "edad          0\n",
      "sexo          0\n",
      "trabajo       0\n",
      "dtype: int64\n"
     ]
    }
   ],
   "source": [
    "print(df.isnull().sum())"
   ]
  },
  {
   "cell_type": "markdown",
   "metadata": {},
   "source": [
    "#### Parte 2: Limpieza de datos"
   ]
  },
  {
   "cell_type": "markdown",
   "metadata": {},
   "source": [
    "#### Rellenar valores faltantes: Rellena los valores faltantes con 0.\n"
   ]
  },
  {
   "cell_type": "code",
   "execution_count": 13,
   "metadata": {},
   "outputs": [],
   "source": [
    "df = df.fillna(0)"
   ]
  },
  {
   "cell_type": "markdown",
   "metadata": {},
   "source": [
    "### 2.3 Eliminar las filas con valores nulos"
   ]
  },
  {
   "cell_type": "code",
   "execution_count": 15,
   "metadata": {},
   "outputs": [],
   "source": [
    "df = df.dropna()"
   ]
  },
  {
   "cell_type": "markdown",
   "metadata": {},
   "source": [
    "Eliminar columnas \n",
    " df = df.drop(colums=[columna_innecesaria])"
   ]
  },
  {
   "cell_type": "markdown",
   "metadata": {},
   "source": [
    "## Parte 3: Filtrado Y Seleccion de Datos "
   ]
  },
  {
   "cell_type": "markdown",
   "metadata": {},
   "source": [
    "### Filtra las filas que cumplan con múltiples condiciones."
   ]
  },
  {
   "cell_type": "code",
   "execution_count": 17,
   "metadata": {},
   "outputs": [
    {
     "data": {
      "text/html": [
       "<div>\n",
       "<style scoped>\n",
       "    .dataframe tbody tr th:only-of-type {\n",
       "        vertical-align: middle;\n",
       "    }\n",
       "\n",
       "    .dataframe tbody tr th {\n",
       "        vertical-align: top;\n",
       "    }\n",
       "\n",
       "    .dataframe thead th {\n",
       "        text-align: right;\n",
       "    }\n",
       "</style>\n",
       "<table border=\"1\" class=\"dataframe\">\n",
       "  <thead>\n",
       "    <tr style=\"text-align: right;\">\n",
       "      <th></th>\n",
       "      <th>Unnamed: 0</th>\n",
       "      <th>time</th>\n",
       "      <th>carrera</th>\n",
       "      <th>acepta</th>\n",
       "      <th>positivo</th>\n",
       "      <th>negativo</th>\n",
       "      <th>edad</th>\n",
       "      <th>sexo</th>\n",
       "      <th>trabajo</th>\n",
       "    </tr>\n",
       "  </thead>\n",
       "  <tbody>\n",
       "    <tr>\n",
       "      <th>1</th>\n",
       "      <td>1</td>\n",
       "      <td>2020-11-08</td>\n",
       "      <td>Psicología</td>\n",
       "      <td>Si</td>\n",
       "      <td>Acceso desde cualquier lugar.</td>\n",
       "      <td>Contacto Personal Docente-Estudiantil.</td>\n",
       "      <td>26</td>\n",
       "      <td>Hombre</td>\n",
       "      <td>Eventual</td>\n",
       "    </tr>\n",
       "    <tr>\n",
       "      <th>5</th>\n",
       "      <td>5</td>\n",
       "      <td>2020-11-08</td>\n",
       "      <td>Ciencias de la Educación</td>\n",
       "      <td>Si</td>\n",
       "      <td>Acceso desde cualquier lugar.</td>\n",
       "      <td>Conexión a internet.</td>\n",
       "      <td>25</td>\n",
       "      <td>Mujer</td>\n",
       "      <td>Sí</td>\n",
       "    </tr>\n",
       "    <tr>\n",
       "      <th>9</th>\n",
       "      <td>9</td>\n",
       "      <td>2020-11-08</td>\n",
       "      <td>Ingeniería de Sistemas</td>\n",
       "      <td>Si</td>\n",
       "      <td>Horario flexible.</td>\n",
       "      <td>Conexión a internet.</td>\n",
       "      <td>25</td>\n",
       "      <td>Hombre</td>\n",
       "      <td>Sí</td>\n",
       "    </tr>\n",
       "    <tr>\n",
       "      <th>11</th>\n",
       "      <td>11</td>\n",
       "      <td>2020-11-08</td>\n",
       "      <td>Ingeniería de Sistemas</td>\n",
       "      <td>Si</td>\n",
       "      <td>Horario flexible.</td>\n",
       "      <td>Contacto Personal Docente-Estudiantil.</td>\n",
       "      <td>21</td>\n",
       "      <td>Hombre</td>\n",
       "      <td>Eventual</td>\n",
       "    </tr>\n",
       "    <tr>\n",
       "      <th>12</th>\n",
       "      <td>12</td>\n",
       "      <td>2020-11-08</td>\n",
       "      <td>Ciencias Físicas y Energías Alternativas</td>\n",
       "      <td>Si</td>\n",
       "      <td>Horario flexible.</td>\n",
       "      <td>Conexión a internet.</td>\n",
       "      <td>25</td>\n",
       "      <td>Hombre</td>\n",
       "      <td>Sí</td>\n",
       "    </tr>\n",
       "    <tr>\n",
       "      <th>...</th>\n",
       "      <td>...</td>\n",
       "      <td>...</td>\n",
       "      <td>...</td>\n",
       "      <td>...</td>\n",
       "      <td>...</td>\n",
       "      <td>...</td>\n",
       "      <td>...</td>\n",
       "      <td>...</td>\n",
       "      <td>...</td>\n",
       "    </tr>\n",
       "    <tr>\n",
       "      <th>213</th>\n",
       "      <td>226</td>\n",
       "      <td>2020-12-09</td>\n",
       "      <td>Ciencias de la Educación</td>\n",
       "      <td>Si</td>\n",
       "      <td>Autonomía.</td>\n",
       "      <td>Falta de recursos de calidad(plataformas, doce...</td>\n",
       "      <td>26</td>\n",
       "      <td>Hombre</td>\n",
       "      <td>Eventual</td>\n",
       "    </tr>\n",
       "    <tr>\n",
       "      <th>215</th>\n",
       "      <td>228</td>\n",
       "      <td>2020-12-09</td>\n",
       "      <td>Psicología</td>\n",
       "      <td>Si</td>\n",
       "      <td>Acceso desde cualquier lugar.</td>\n",
       "      <td>Contacto Personal Docente-Estudiantil.</td>\n",
       "      <td>21</td>\n",
       "      <td>Mujer</td>\n",
       "      <td>No</td>\n",
       "    </tr>\n",
       "    <tr>\n",
       "      <th>218</th>\n",
       "      <td>231</td>\n",
       "      <td>2020-12-11</td>\n",
       "      <td>Ingeniería de Sistemas</td>\n",
       "      <td>No</td>\n",
       "      <td>Acceso desde cualquier lugar.</td>\n",
       "      <td>Falta de recursos de calidad(plataformas, doce...</td>\n",
       "      <td>23</td>\n",
       "      <td>Mujer</td>\n",
       "      <td>No</td>\n",
       "    </tr>\n",
       "    <tr>\n",
       "      <th>219</th>\n",
       "      <td>232</td>\n",
       "      <td>2020-12-11</td>\n",
       "      <td>Gestión Turística y Hotelera</td>\n",
       "      <td>No</td>\n",
       "      <td>Horario flexible.</td>\n",
       "      <td>Falta de recursos de calidad(plataformas, doce...</td>\n",
       "      <td>25</td>\n",
       "      <td>Hombre</td>\n",
       "      <td>Sí</td>\n",
       "    </tr>\n",
       "    <tr>\n",
       "      <th>221</th>\n",
       "      <td>234</td>\n",
       "      <td>2020-12-12</td>\n",
       "      <td>Comercio Internacional</td>\n",
       "      <td>Si</td>\n",
       "      <td>Horario flexible.</td>\n",
       "      <td>Falta de recursos de calidad(plataformas, doce...</td>\n",
       "      <td>23</td>\n",
       "      <td>Hombre</td>\n",
       "      <td>Sí</td>\n",
       "    </tr>\n",
       "  </tbody>\n",
       "</table>\n",
       "<p>86 rows × 9 columns</p>\n",
       "</div>"
      ],
      "text/plain": [
       "     Unnamed: 0        time                                   carrera acepta  \\\n",
       "1             1  2020-11-08                                Psicología     Si   \n",
       "5             5  2020-11-08                  Ciencias de la Educación     Si   \n",
       "9             9  2020-11-08                    Ingeniería de Sistemas     Si   \n",
       "11           11  2020-11-08                    Ingeniería de Sistemas     Si   \n",
       "12           12  2020-11-08  Ciencias Físicas y Energías Alternativas     Si   \n",
       "..          ...         ...                                       ...    ...   \n",
       "213         226  2020-12-09                  Ciencias de la Educación     Si   \n",
       "215         228  2020-12-09                                Psicología     Si   \n",
       "218         231  2020-12-11                    Ingeniería de Sistemas     No   \n",
       "219         232  2020-12-11              Gestión Turística y Hotelera     No   \n",
       "221         234  2020-12-12                    Comercio Internacional     Si   \n",
       "\n",
       "                          positivo  \\\n",
       "1    Acceso desde cualquier lugar.   \n",
       "5    Acceso desde cualquier lugar.   \n",
       "9                Horario flexible.   \n",
       "11               Horario flexible.   \n",
       "12               Horario flexible.   \n",
       "..                             ...   \n",
       "213                     Autonomía.   \n",
       "215  Acceso desde cualquier lugar.   \n",
       "218  Acceso desde cualquier lugar.   \n",
       "219              Horario flexible.   \n",
       "221              Horario flexible.   \n",
       "\n",
       "                                              negativo  edad    sexo   trabajo  \n",
       "1               Contacto Personal Docente-Estudiantil.    26  Hombre  Eventual  \n",
       "5                                 Conexión a internet.    25   Mujer        Sí  \n",
       "9                                 Conexión a internet.    25  Hombre        Sí  \n",
       "11              Contacto Personal Docente-Estudiantil.    21  Hombre  Eventual  \n",
       "12                                Conexión a internet.    25  Hombre        Sí  \n",
       "..                                                 ...   ...     ...       ...  \n",
       "213  Falta de recursos de calidad(plataformas, doce...    26  Hombre  Eventual  \n",
       "215             Contacto Personal Docente-Estudiantil.    21   Mujer        No  \n",
       "218  Falta de recursos de calidad(plataformas, doce...    23   Mujer        No  \n",
       "219  Falta de recursos de calidad(plataformas, doce...    25  Hombre        Sí  \n",
       "221  Falta de recursos de calidad(plataformas, doce...    23  Hombre        Sí  \n",
       "\n",
       "[86 rows x 9 columns]"
      ]
     },
     "execution_count": 17,
     "metadata": {},
     "output_type": "execute_result"
    }
   ],
   "source": [
    "df = df[(df['edad']>20) & (df['edad']<30)]\n",
    "df"
   ]
  },
  {
   "cell_type": "markdown",
   "metadata": {},
   "source": [
    "#### 3.2 Seleccionar columnas: Selecciona solo ciertas columnas para un nuevo DataFrame"
   ]
  },
  {
   "cell_type": "code",
   "execution_count": 19,
   "metadata": {},
   "outputs": [
    {
     "name": "stdout",
     "output_type": "stream",
     "text": [
      "     edad    sexo\n",
      "1      26  Hombre\n",
      "5      25   Mujer\n",
      "9      25  Hombre\n",
      "11     21  Hombre\n",
      "12     25  Hombre\n",
      "..    ...     ...\n",
      "213    26  Hombre\n",
      "215    21   Mujer\n",
      "218    23   Mujer\n",
      "219    25  Hombre\n",
      "221    23  Hombre\n",
      "\n",
      "[86 rows x 2 columns]\n"
     ]
    }
   ],
   "source": [
    "df = df[['edad', 'sexo']]\n",
    "print(df)"
   ]
  },
  {
   "cell_type": "markdown",
   "metadata": {},
   "source": [
    "## Parte 4: Agregacion y Agrupacion "
   ]
  },
  {
   "cell_type": "markdown",
   "metadata": {},
   "source": [
    "### 4.1 Calcula la suma, media de una columna "
   ]
  },
  {
   "cell_type": "code",
   "execution_count": 20,
   "metadata": {},
   "outputs": [
    {
     "name": "stdout",
     "output_type": "stream",
     "text": [
      "2107\n",
      "24.5\n",
      "2.4530892887996414\n"
     ]
    }
   ],
   "source": [
    "print(df['edad'].sum())\n",
    "print(df['edad'].mean())\n",
    "print(df['edad'].std())"
   ]
  },
  {
   "cell_type": "markdown",
   "metadata": {},
   "source": [
    "### 4.2 Agrupa los datos por una columna y calcula la media "
   ]
  },
  {
   "cell_type": "code",
   "execution_count": 21,
   "metadata": {},
   "outputs": [
    {
     "name": "stdout",
     "output_type": "stream",
     "text": [
      "             edad\n",
      "sexo             \n",
      "Hombre  24.437500\n",
      "Mujer   24.578947\n"
     ]
    }
   ],
   "source": [
    "print(df.groupby('sexo').mean())"
   ]
  },
  {
   "cell_type": "markdown",
   "metadata": {},
   "source": [
    "#### 4.3 Pivot Table: Crea una tabla pivote para resumir los datos."
   ]
  },
  {
   "cell_type": "code",
   "execution_count": 23,
   "metadata": {},
   "outputs": [
    {
     "name": "stdout",
     "output_type": "stream",
     "text": [
      "        edad\n",
      "sexo        \n",
      "Hombre  1173\n",
      "Mujer    934\n"
     ]
    }
   ],
   "source": [
    "print(pd.pivot_table(df, index= 'sexo', values= 'edad', aggfunc='sum'))"
   ]
  }
 ],
 "metadata": {
  "kernelspec": {
   "display_name": "Python 3",
   "language": "python",
   "name": "python3"
  },
  "language_info": {
   "codemirror_mode": {
    "name": "ipython",
    "version": 3
   },
   "file_extension": ".py",
   "mimetype": "text/x-python",
   "name": "python",
   "nbconvert_exporter": "python",
   "pygments_lexer": "ipython3",
   "version": "3.13.2"
  }
 },
 "nbformat": 4,
 "nbformat_minor": 2
}
