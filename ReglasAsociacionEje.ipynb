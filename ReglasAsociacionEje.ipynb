{
 "cells": [
  {
   "cell_type": "code",
   "execution_count": 12,
   "id": "f04d901f",
   "metadata": {},
   "outputs": [],
   "source": [
    "import pandas as pd \n",
    "from mlxtend.frequent_patterns import apriori, association_rules \n",
    "from mlxtend.preprocessing import TransactionEncoder "
   ]
  },
  {
   "cell_type": "markdown",
   "id": "bc62b958",
   "metadata": {},
   "source": [
    "## Ejercicio 1: Análisis Básico de Canasta de Compra\n",
    "Contexto: Eres analista en MiniMarket ABC. Tienes datos de 8 transacciones\n",
    "Tareas:\n",
    "1. Preprocesa los datos con TransactionEncoder.\n",
    "2. Encuentra itemsets frecuentes con min_support=0.4.\n",
    "3. Genera reglas con min_confidence=0.6 y filtra por lift > 1.\n",
    "\n",
    "Pregunta clave:\n",
    "¿Qué producto está más asociado a \"Pan\"? Usa el lift como criterio."
   ]
  },
  {
   "cell_type": "code",
   "execution_count": 13,
   "id": "5d0b498e",
   "metadata": {},
   "outputs": [
    {
     "name": "stdout",
     "output_type": "stream",
     "text": [
      "Data set original: \n",
      "Transacción 1: ['Pan', 'Leche']\n",
      "Transacción 2: ['Pan', 'Pañales', 'Cerveza']\n",
      "Transacción 3: ['Leche', 'Pañales']\n",
      "Transacción 4: ['Pan', 'Leche', 'Pañales', 'Huevos']\n",
      "Transacción 5: ['Huevos', 'Leche']\n",
      "Transacción 6: ['Pan', 'Huevos']\n",
      "Transacción 7: ['Pañales', 'Cerveza']\n",
      "Transacción 8: ['Pan', 'Leche', 'Huevos']\n"
     ]
    }
   ],
   "source": [
    "transacciones = [\n",
    "['Pan', 'Leche'],\n",
    "['Pan', 'Pañales', 'Cerveza'],\n",
    "['Leche', 'Pañales'],\n",
    "['Pan', 'Leche', 'Pañales', 'Huevos'],\n",
    "['Huevos', 'Leche'],\n",
    "['Pan', 'Huevos'],\n",
    "['Pañales', 'Cerveza'],\n",
    "['Pan', 'Leche', 'Huevos']\n",
    "]\n",
    "\n",
    "print(\"Data set original: \")\n",
    "for i, t in enumerate(transacciones,1):\n",
    "    print(f\"Transacción {i}: {t}\")\n"
   ]
  },
  {
   "cell_type": "code",
   "execution_count": 14,
   "id": "d5a60641",
   "metadata": {},
   "outputs": [
    {
     "data": {
      "text/html": [
       "<div>\n",
       "<style scoped>\n",
       "    .dataframe tbody tr th:only-of-type {\n",
       "        vertical-align: middle;\n",
       "    }\n",
       "\n",
       "    .dataframe tbody tr th {\n",
       "        vertical-align: top;\n",
       "    }\n",
       "\n",
       "    .dataframe thead th {\n",
       "        text-align: right;\n",
       "    }\n",
       "</style>\n",
       "<table border=\"1\" class=\"dataframe\">\n",
       "  <thead>\n",
       "    <tr style=\"text-align: right;\">\n",
       "      <th></th>\n",
       "      <th>Cerveza</th>\n",
       "      <th>Huevos</th>\n",
       "      <th>Leche</th>\n",
       "      <th>Pan</th>\n",
       "      <th>Pañales</th>\n",
       "    </tr>\n",
       "  </thead>\n",
       "  <tbody>\n",
       "    <tr>\n",
       "      <th>0</th>\n",
       "      <td>False</td>\n",
       "      <td>False</td>\n",
       "      <td>True</td>\n",
       "      <td>True</td>\n",
       "      <td>False</td>\n",
       "    </tr>\n",
       "    <tr>\n",
       "      <th>1</th>\n",
       "      <td>True</td>\n",
       "      <td>False</td>\n",
       "      <td>False</td>\n",
       "      <td>True</td>\n",
       "      <td>True</td>\n",
       "    </tr>\n",
       "    <tr>\n",
       "      <th>2</th>\n",
       "      <td>False</td>\n",
       "      <td>False</td>\n",
       "      <td>True</td>\n",
       "      <td>False</td>\n",
       "      <td>True</td>\n",
       "    </tr>\n",
       "    <tr>\n",
       "      <th>3</th>\n",
       "      <td>False</td>\n",
       "      <td>True</td>\n",
       "      <td>True</td>\n",
       "      <td>True</td>\n",
       "      <td>True</td>\n",
       "    </tr>\n",
       "    <tr>\n",
       "      <th>4</th>\n",
       "      <td>False</td>\n",
       "      <td>True</td>\n",
       "      <td>True</td>\n",
       "      <td>False</td>\n",
       "      <td>False</td>\n",
       "    </tr>\n",
       "    <tr>\n",
       "      <th>5</th>\n",
       "      <td>False</td>\n",
       "      <td>True</td>\n",
       "      <td>False</td>\n",
       "      <td>True</td>\n",
       "      <td>False</td>\n",
       "    </tr>\n",
       "    <tr>\n",
       "      <th>6</th>\n",
       "      <td>True</td>\n",
       "      <td>False</td>\n",
       "      <td>False</td>\n",
       "      <td>False</td>\n",
       "      <td>True</td>\n",
       "    </tr>\n",
       "    <tr>\n",
       "      <th>7</th>\n",
       "      <td>False</td>\n",
       "      <td>True</td>\n",
       "      <td>True</td>\n",
       "      <td>True</td>\n",
       "      <td>False</td>\n",
       "    </tr>\n",
       "  </tbody>\n",
       "</table>\n",
       "</div>"
      ],
      "text/plain": [
       "   Cerveza  Huevos  Leche    Pan  Pañales\n",
       "0    False   False   True   True    False\n",
       "1     True   False  False   True     True\n",
       "2    False   False   True  False     True\n",
       "3    False    True   True   True     True\n",
       "4    False    True   True  False    False\n",
       "5    False    True  False   True    False\n",
       "6     True   False  False  False     True\n",
       "7    False    True   True   True    False"
      ]
     },
     "execution_count": 14,
     "metadata": {},
     "output_type": "execute_result"
    }
   ],
   "source": [
    "te= TransactionEncoder()\n",
    "te_ary= te.fit(transacciones).transform(transacciones)\n",
    "\n",
    "df=pd.DataFrame(te_ary,columns=te.columns_)\n",
    "\n",
    "df"
   ]
  },
  {
   "cell_type": "code",
   "execution_count": 48,
   "id": "7bbe3e84",
   "metadata": {},
   "outputs": [
    {
     "name": "stdout",
     "output_type": "stream",
     "text": [
      "\n",
      " Itemsets Frecuentes soporte > 40%\n",
      "    support               itemsets\n",
      "1  0.571429           (Analgésico)\n",
      "3  0.571429               (Jarabe)\n",
      "0  0.428571              (Alcohol)\n",
      "2  0.428571              (Curitas)\n",
      "4  0.428571           (Termómetro)\n",
      "5  0.285714  (Alcohol, Analgésico)\n",
      "6  0.285714   (Jarabe, Analgésico)\n",
      "7  0.285714      (Jarabe, Curitas)\n"
     ]
    }
   ],
   "source": [
    "frequent_itemsets = apriori(df,min_support=0.2, use_colnames=True)\n",
    "\n",
    "print(\"\\n Itemsets Frecuentes soporte > 40%\")\n",
    "print(frequent_itemsets.sort_values(\"support\",ascending=False))"
   ]
  },
  {
   "cell_type": "code",
   "execution_count": 52,
   "id": "5ad99070",
   "metadata": {},
   "outputs": [
    {
     "name": "stdout",
     "output_type": "stream",
     "text": [
      "  antecedents   consequents   support  confidence      lift\n",
      "0   (Alcohol)  (Analgésico)  0.285714    0.666667  1.166667\n",
      "1   (Curitas)      (Jarabe)  0.285714    0.666667  1.166667\n"
     ]
    }
   ],
   "source": [
    "rules = association_rules(frequent_itemsets, metric=\"confidence\", min_threshold=0.6)\n",
    "\n",
    "# Paso 3: Filtrar reglas con lift > 1\n",
    "rules_filtered = rules[rules['lift'] > 1]\n",
    "\n",
    "# Ver resultados\n",
    "print(rules_filtered[['antecedents','consequents','support','confidence','lift']])"
   ]
  },
  {
   "cell_type": "code",
   "execution_count": 53,
   "id": "992394e1",
   "metadata": {},
   "outputs": [
    {
     "name": "stdout",
     "output_type": "stream",
     "text": [
      "\n",
      " Reglas de Asociacion (confianza > 60% y lift >1)\n",
      "   antecedents   consequents   support  confidence      lift\n",
      "0   (Alcohol)  (Analgésico)  0.285714    0.666667  1.166667\n",
      "1   (Curitas)      (Jarabe)  0.285714    0.666667  1.166667\n"
     ]
    }
   ],
   "source": [
    "rules = association_rules(frequent_itemsets,metric = \"confidence\",min_threshold=0.6)\n",
    "\n",
    "rules = rules[rules['lift'] > 1]\n",
    "\n",
    "print(\"\\n Reglas de Asociacion (confianza > 60% y lift >1)\\n\", rules[['antecedents','consequents','support','confidence','lift']].sort_values('lift',ascending=False))"
   ]
  },
  {
   "cell_type": "markdown",
   "id": "0b844d8f",
   "metadata": {},
   "source": [
    "## Ejercicio 2: Optimización de Inventario\n",
    "Contexto: En Farmacia Saludable, quieren reducir desperdicios analizando compras conjuntas:\n",
    "Tareas:\n",
    "1. Aplica Apriori con min_support=0.3.\n",
    "2. Genera reglas con min_confidence=0.5.\n",
    "\n",
    "Preguntas clave: \n",
    "Si un cliente compra Jarabe, ¿qué otro producto tiene mayor probabilidad de comprar?\n",
    "¿Qué par de productos debería colocarse juntos en el estante? Justifica con lift.\n"
   ]
  },
  {
   "cell_type": "code",
   "execution_count": 24,
   "id": "1b838ed9",
   "metadata": {},
   "outputs": [
    {
     "name": "stdout",
     "output_type": "stream",
     "text": [
      "Transacción 1: ['Analgésico', 'Jarabe', 'Curitas']\n",
      "Transacción 2: ['Termómetro', 'Jarabe']\n",
      "Transacción 3: ['Analgésico', 'Termómetro', 'Alcohol']\n",
      "Transacción 4: ['Jarabe', 'Alcohol', 'Curitas']\n",
      "Transacción 5: ['Analgésico', 'Jarabe']\n",
      "Transacción 6: ['Termómetro', 'Curitas']\n",
      "Transacción 7: ['Analgésico', 'Alcohol']\n"
     ]
    }
   ],
   "source": [
    "tra1 = [\n",
    "    ['Analgésico', 'Jarabe', 'Curitas'],\n",
    "    ['Termómetro', 'Jarabe'],\n",
    "    ['Analgésico', 'Termómetro', 'Alcohol'],\n",
    "    ['Jarabe', 'Alcohol', 'Curitas'],\n",
    "    ['Analgésico', 'Jarabe'],\n",
    "    ['Termómetro', 'Curitas'],\n",
    "    ['Analgésico', 'Alcohol']\n",
    "]\n",
    "\n",
    "for i, t in enumerate(tra1,1):\n",
    "    print(f\"Transacción {i}: {t}\")"
   ]
  },
  {
   "cell_type": "code",
   "execution_count": 27,
   "id": "1ea7ce01",
   "metadata": {},
   "outputs": [
    {
     "data": {
      "text/html": [
       "<div>\n",
       "<style scoped>\n",
       "    .dataframe tbody tr th:only-of-type {\n",
       "        vertical-align: middle;\n",
       "    }\n",
       "\n",
       "    .dataframe tbody tr th {\n",
       "        vertical-align: top;\n",
       "    }\n",
       "\n",
       "    .dataframe thead th {\n",
       "        text-align: right;\n",
       "    }\n",
       "</style>\n",
       "<table border=\"1\" class=\"dataframe\">\n",
       "  <thead>\n",
       "    <tr style=\"text-align: right;\">\n",
       "      <th></th>\n",
       "      <th>Alcohol</th>\n",
       "      <th>Analgésico</th>\n",
       "      <th>Curitas</th>\n",
       "      <th>Jarabe</th>\n",
       "      <th>Termómetro</th>\n",
       "    </tr>\n",
       "  </thead>\n",
       "  <tbody>\n",
       "    <tr>\n",
       "      <th>0</th>\n",
       "      <td>False</td>\n",
       "      <td>True</td>\n",
       "      <td>True</td>\n",
       "      <td>True</td>\n",
       "      <td>False</td>\n",
       "    </tr>\n",
       "    <tr>\n",
       "      <th>1</th>\n",
       "      <td>False</td>\n",
       "      <td>False</td>\n",
       "      <td>False</td>\n",
       "      <td>True</td>\n",
       "      <td>True</td>\n",
       "    </tr>\n",
       "    <tr>\n",
       "      <th>2</th>\n",
       "      <td>True</td>\n",
       "      <td>True</td>\n",
       "      <td>False</td>\n",
       "      <td>False</td>\n",
       "      <td>True</td>\n",
       "    </tr>\n",
       "    <tr>\n",
       "      <th>3</th>\n",
       "      <td>True</td>\n",
       "      <td>False</td>\n",
       "      <td>True</td>\n",
       "      <td>True</td>\n",
       "      <td>False</td>\n",
       "    </tr>\n",
       "    <tr>\n",
       "      <th>4</th>\n",
       "      <td>False</td>\n",
       "      <td>True</td>\n",
       "      <td>False</td>\n",
       "      <td>True</td>\n",
       "      <td>False</td>\n",
       "    </tr>\n",
       "    <tr>\n",
       "      <th>5</th>\n",
       "      <td>False</td>\n",
       "      <td>False</td>\n",
       "      <td>True</td>\n",
       "      <td>False</td>\n",
       "      <td>True</td>\n",
       "    </tr>\n",
       "    <tr>\n",
       "      <th>6</th>\n",
       "      <td>True</td>\n",
       "      <td>True</td>\n",
       "      <td>False</td>\n",
       "      <td>False</td>\n",
       "      <td>False</td>\n",
       "    </tr>\n",
       "  </tbody>\n",
       "</table>\n",
       "</div>"
      ],
      "text/plain": [
       "   Alcohol  Analgésico  Curitas  Jarabe  Termómetro\n",
       "0    False        True     True    True       False\n",
       "1    False       False    False    True        True\n",
       "2     True        True    False   False        True\n",
       "3     True       False     True    True       False\n",
       "4    False        True    False    True       False\n",
       "5    False       False     True   False        True\n",
       "6     True        True    False   False       False"
      ]
     },
     "execution_count": 27,
     "metadata": {},
     "output_type": "execute_result"
    }
   ],
   "source": [
    "te_ary = te.fit(tra1).transform(tra1)\n",
    "df = pd.DataFrame(te_ary, columns=te.columns_)\n",
    "df"
   ]
  },
  {
   "cell_type": "code",
   "execution_count": 39,
   "id": "b6caf241",
   "metadata": {},
   "outputs": [
    {
     "name": "stdout",
     "output_type": "stream",
     "text": [
      "    support               itemsets\n",
      "6  0.285714   (Jarabe, Analgésico)\n",
      "7  0.285714      (Jarabe, Curitas)\n",
      "5  0.285714  (Alcohol, Analgésico)\n",
      "0  0.428571              (Alcohol)\n",
      "2  0.428571              (Curitas)\n",
      "4  0.428571           (Termómetro)\n",
      "3  0.571429               (Jarabe)\n",
      "1  0.571429           (Analgésico)\n"
     ]
    }
   ],
   "source": [
    "frequent_itemsets = apriori(df, min_support=0.2, use_colnames=True)\n",
    "print(frequent_itemsets.sort_values('support',ascending=True))"
   ]
  },
  {
   "cell_type": "code",
   "execution_count": 54,
   "id": "56b8d999",
   "metadata": {},
   "outputs": [
    {
     "name": "stdout",
     "output_type": "stream",
     "text": [
      "    antecedents   consequents   support  confidence      lift\n",
      "0     (Alcohol)  (Analgésico)  0.285714    0.666667  1.166667\n",
      "1  (Analgésico)     (Alcohol)  0.285714    0.500000  1.166667\n",
      "2      (Jarabe)  (Analgésico)  0.285714    0.500000  0.875000\n",
      "3  (Analgésico)      (Jarabe)  0.285714    0.500000  0.875000\n",
      "4      (Jarabe)     (Curitas)  0.285714    0.500000  1.166667\n",
      "5     (Curitas)      (Jarabe)  0.285714    0.666667  1.166667\n"
     ]
    }
   ],
   "source": [
    "rules = association_rules(frequent_itemsets, metric=\"confidence\", min_threshold=0.5)\n",
    "print(rules[['antecedents','consequents','support','confidence','lift']])"
   ]
  },
  {
   "cell_type": "markdown",
   "id": "4d1036d6",
   "metadata": {},
   "source": [
    "## Ejercicio 3: Análisis de Ventas en una Librería\n",
    "Contexto: Eres el gerente de Libros & Más, una librería que quiere optimizar sus recomendaciones y disposición de productos. Tienes datos de 10 transacciones recientes:\n",
    "Tareas:\n",
    "1. Preprocesamiento de Datos :Convierte las transacciones a formato one-hot usando TransactionEncoder.\n",
    "2. Itemsets Frecuentes: Aplica el algoritmo Apriori con min_support=0.3. Identifica los 3 itemsets de tamaño 2 más frecuentes.\n",
    "3. Generación de Reglas: Encuentra reglas con min_confidence=0.6. Filtra las reglas con lift > 1.2 (asociaciones más fuertes).\n",
    "\n",
    "Preguntas clave:\n",
    "Basado en la regla con mayor lift:\n",
    "¿Qué productos recomendarías empaquetar juntos en una promoción?\n",
    "¿Qué sección de la tienda podría reorganizarse para aumentar ventas cruzadas?\n"
   ]
  },
  {
   "cell_type": "code",
   "execution_count": 56,
   "id": "a5582c19",
   "metadata": {},
   "outputs": [
    {
     "name": "stdout",
     "output_type": "stream",
     "text": [
      "Transacción 1: ['Novela', 'Café', 'Marcadores']\n",
      "Transacción 2: ['Libro de Ciencia', 'Cuaderno', 'Lápiz']\n",
      "Transacción 3: ['Novela', 'Café', 'Lápiz']\n",
      "Transacción 4: ['Libro de Historia', 'Marcadores', 'Post-it']\n",
      "Transacción 5: ['Cuaderno', 'Lápiz', 'Post-it']\n",
      "Transacción 6: ['Novela', 'Libro de Ciencia', 'Café']\n",
      "Transacción 7: ['Libro de Historia', 'Cuaderno']\n",
      "Transacción 8: ['Café', 'Post-it', 'Marcadores']\n",
      "Transacción 9: ['Novela', 'Lápiz']\n",
      "Transacción 10: ['Libro de Ciencia', 'Cuaderno', 'Post-it']\n"
     ]
    }
   ],
   "source": [
    "tra2 = [\n",
    "['Novela', 'Café', 'Marcadores'],\n",
    "['Libro de Ciencia', 'Cuaderno', 'Lápiz'],\n",
    "['Novela', 'Café', 'Lápiz'],\n",
    "['Libro de Historia', 'Marcadores', 'Post-it'],\n",
    "['Cuaderno', 'Lápiz', 'Post-it'],\n",
    "['Novela', 'Libro de Ciencia', 'Café'],\n",
    "['Libro de Historia', 'Cuaderno'],\n",
    "['Café', 'Post-it', 'Marcadores'],\n",
    "['Novela', 'Lápiz'],\n",
    "['Libro de Ciencia', 'Cuaderno', 'Post-it']\n",
    "]\n",
    "for i, t in enumerate(tra2,1):\n",
    "    print(f\"Transacción {i}: {t}\")"
   ]
  },
  {
   "cell_type": "code",
   "execution_count": 58,
   "id": "72e5df4c",
   "metadata": {},
   "outputs": [
    {
     "data": {
      "text/html": [
       "<div>\n",
       "<style scoped>\n",
       "    .dataframe tbody tr th:only-of-type {\n",
       "        vertical-align: middle;\n",
       "    }\n",
       "\n",
       "    .dataframe tbody tr th {\n",
       "        vertical-align: top;\n",
       "    }\n",
       "\n",
       "    .dataframe thead th {\n",
       "        text-align: right;\n",
       "    }\n",
       "</style>\n",
       "<table border=\"1\" class=\"dataframe\">\n",
       "  <thead>\n",
       "    <tr style=\"text-align: right;\">\n",
       "      <th></th>\n",
       "      <th>Café</th>\n",
       "      <th>Cuaderno</th>\n",
       "      <th>Libro de Ciencia</th>\n",
       "      <th>Libro de Historia</th>\n",
       "      <th>Lápiz</th>\n",
       "      <th>Marcadores</th>\n",
       "      <th>Novela</th>\n",
       "      <th>Post-it</th>\n",
       "    </tr>\n",
       "  </thead>\n",
       "  <tbody>\n",
       "    <tr>\n",
       "      <th>0</th>\n",
       "      <td>True</td>\n",
       "      <td>False</td>\n",
       "      <td>False</td>\n",
       "      <td>False</td>\n",
       "      <td>False</td>\n",
       "      <td>True</td>\n",
       "      <td>True</td>\n",
       "      <td>False</td>\n",
       "    </tr>\n",
       "    <tr>\n",
       "      <th>1</th>\n",
       "      <td>False</td>\n",
       "      <td>True</td>\n",
       "      <td>True</td>\n",
       "      <td>False</td>\n",
       "      <td>True</td>\n",
       "      <td>False</td>\n",
       "      <td>False</td>\n",
       "      <td>False</td>\n",
       "    </tr>\n",
       "    <tr>\n",
       "      <th>2</th>\n",
       "      <td>True</td>\n",
       "      <td>False</td>\n",
       "      <td>False</td>\n",
       "      <td>False</td>\n",
       "      <td>True</td>\n",
       "      <td>False</td>\n",
       "      <td>True</td>\n",
       "      <td>False</td>\n",
       "    </tr>\n",
       "    <tr>\n",
       "      <th>3</th>\n",
       "      <td>False</td>\n",
       "      <td>False</td>\n",
       "      <td>False</td>\n",
       "      <td>True</td>\n",
       "      <td>False</td>\n",
       "      <td>True</td>\n",
       "      <td>False</td>\n",
       "      <td>True</td>\n",
       "    </tr>\n",
       "    <tr>\n",
       "      <th>4</th>\n",
       "      <td>False</td>\n",
       "      <td>True</td>\n",
       "      <td>False</td>\n",
       "      <td>False</td>\n",
       "      <td>True</td>\n",
       "      <td>False</td>\n",
       "      <td>False</td>\n",
       "      <td>True</td>\n",
       "    </tr>\n",
       "    <tr>\n",
       "      <th>5</th>\n",
       "      <td>True</td>\n",
       "      <td>False</td>\n",
       "      <td>True</td>\n",
       "      <td>False</td>\n",
       "      <td>False</td>\n",
       "      <td>False</td>\n",
       "      <td>True</td>\n",
       "      <td>False</td>\n",
       "    </tr>\n",
       "    <tr>\n",
       "      <th>6</th>\n",
       "      <td>False</td>\n",
       "      <td>True</td>\n",
       "      <td>False</td>\n",
       "      <td>True</td>\n",
       "      <td>False</td>\n",
       "      <td>False</td>\n",
       "      <td>False</td>\n",
       "      <td>False</td>\n",
       "    </tr>\n",
       "    <tr>\n",
       "      <th>7</th>\n",
       "      <td>True</td>\n",
       "      <td>False</td>\n",
       "      <td>False</td>\n",
       "      <td>False</td>\n",
       "      <td>False</td>\n",
       "      <td>True</td>\n",
       "      <td>False</td>\n",
       "      <td>True</td>\n",
       "    </tr>\n",
       "    <tr>\n",
       "      <th>8</th>\n",
       "      <td>False</td>\n",
       "      <td>False</td>\n",
       "      <td>False</td>\n",
       "      <td>False</td>\n",
       "      <td>True</td>\n",
       "      <td>False</td>\n",
       "      <td>True</td>\n",
       "      <td>False</td>\n",
       "    </tr>\n",
       "    <tr>\n",
       "      <th>9</th>\n",
       "      <td>False</td>\n",
       "      <td>True</td>\n",
       "      <td>True</td>\n",
       "      <td>False</td>\n",
       "      <td>False</td>\n",
       "      <td>False</td>\n",
       "      <td>False</td>\n",
       "      <td>True</td>\n",
       "    </tr>\n",
       "  </tbody>\n",
       "</table>\n",
       "</div>"
      ],
      "text/plain": [
       "    Café  Cuaderno  Libro de Ciencia  Libro de Historia  Lápiz  Marcadores  \\\n",
       "0   True     False             False              False  False        True   \n",
       "1  False      True              True              False   True       False   \n",
       "2   True     False             False              False   True       False   \n",
       "3  False     False             False               True  False        True   \n",
       "4  False      True             False              False   True       False   \n",
       "5   True     False              True              False  False       False   \n",
       "6  False      True             False               True  False       False   \n",
       "7   True     False             False              False  False        True   \n",
       "8  False     False             False              False   True       False   \n",
       "9  False      True              True              False  False       False   \n",
       "\n",
       "   Novela  Post-it  \n",
       "0    True    False  \n",
       "1   False    False  \n",
       "2    True    False  \n",
       "3   False     True  \n",
       "4   False     True  \n",
       "5    True    False  \n",
       "6   False    False  \n",
       "7   False     True  \n",
       "8    True    False  \n",
       "9   False     True  "
      ]
     },
     "execution_count": 58,
     "metadata": {},
     "output_type": "execute_result"
    }
   ],
   "source": [
    "te_ary= te.fit(tra2).transform(tra2)\n",
    "df=pd.DataFrame(te_ary,columns=te.columns_)\n",
    "\n",
    "df"
   ]
  },
  {
   "cell_type": "code",
   "execution_count": 59,
   "id": "5c70877f",
   "metadata": {},
   "outputs": [
    {
     "name": "stdout",
     "output_type": "stream",
     "text": [
      "   support            itemsets\n",
      "2      0.3  (Libro de Ciencia)\n",
      "4      0.3        (Marcadores)\n",
      "7      0.3      (Novela, Café)\n",
      "0      0.4              (Café)\n",
      "3      0.4             (Lápiz)\n",
      "1      0.4          (Cuaderno)\n",
      "5      0.4            (Novela)\n",
      "6      0.4           (Post-it)\n"
     ]
    }
   ],
   "source": [
    "frequent_itemsets = apriori(df, min_support=0.3, use_colnames=True)\n",
    "print(frequent_itemsets.sort_values('support',ascending=True))"
   ]
  },
  {
   "cell_type": "code",
   "execution_count": 60,
   "id": "43ffb453",
   "metadata": {},
   "outputs": [
    {
     "name": "stdout",
     "output_type": "stream",
     "text": [
      "  antecedents consequents  support  confidence   lift\n",
      "0    (Novela)      (Café)      0.3        0.75  1.875\n",
      "1      (Café)    (Novela)      0.3        0.75  1.875\n"
     ]
    }
   ],
   "source": [
    "rules = association_rules(frequent_itemsets, metric=\"confidence\", min_threshold=0.6)\n",
    "print(rules[['antecedents','consequents','support','confidence','lift']].sort_values('lift',ascending=False))"
   ]
  }
 ],
 "metadata": {
  "kernelspec": {
   "display_name": "Python 3",
   "language": "python",
   "name": "python3"
  },
  "language_info": {
   "codemirror_mode": {
    "name": "ipython",
    "version": 3
   },
   "file_extension": ".py",
   "mimetype": "text/x-python",
   "name": "python",
   "nbconvert_exporter": "python",
   "pygments_lexer": "ipython3",
   "version": "3.13.3"
  }
 },
 "nbformat": 4,
 "nbformat_minor": 5
}
