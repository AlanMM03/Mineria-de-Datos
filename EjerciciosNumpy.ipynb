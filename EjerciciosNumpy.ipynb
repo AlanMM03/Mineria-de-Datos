{
 "cells": [
  {
   "cell_type": "code",
   "execution_count": 20,
   "metadata": {},
   "outputs": [],
   "source": [
    "import numpy as np\n",
    "import random"
   ]
  },
  {
   "cell_type": "markdown",
   "metadata": {},
   "source": [
    "Crea un array de 10 números aleatorios enteros entre 0 y 100."
   ]
  },
  {
   "cell_type": "code",
   "execution_count": 4,
   "metadata": {},
   "outputs": [
    {
     "name": "stdout",
     "output_type": "stream",
     "text": [
      "[48 44 14 48 44 79 95 62 51 25]\n"
     ]
    }
   ],
   "source": [
    "print(np.array(np.random.randint(1,100,10)))"
   ]
  },
  {
   "cell_type": "markdown",
   "metadata": {},
   "source": [
    "Crea un array de 5 números aleatorios decimales entre 0 y 1."
   ]
  },
  {
   "cell_type": "code",
   "execution_count": 8,
   "metadata": {},
   "outputs": [
    {
     "name": "stdout",
     "output_type": "stream",
     "text": [
      "[0.64948936 0.58577036 0.24151983 0.3840294  0.24267586]\n"
     ]
    }
   ],
   "source": [
    "print(np.array(np.random.rand(5)))"
   ]
  },
  {
   "cell_type": "markdown",
   "metadata": {},
   "source": [
    "Crea dos arrays de números aleatorios enteros de longitud 5 y concaténalos."
   ]
  },
  {
   "cell_type": "code",
   "execution_count": 16,
   "metadata": {},
   "outputs": [
    {
     "name": "stdout",
     "output_type": "stream",
     "text": [
      "[8 5 7 4 6] [6 3 4 7 3]\n",
      "Array´s concatenados: [8 5 7 4 6 6 3 4 7 3]\n"
     ]
    }
   ],
   "source": [
    "a=np.array(np.random.randint(1,10,5))\n",
    "b=np.array(np.random.randint(1,10,5))\n",
    "print(a,b)\n",
    "print(f\"Array´s concatenados: {np.concat((a,b))}\")"
   ]
  },
  {
   "cell_type": "markdown",
   "metadata": {},
   "source": [
    "Crea un array de 10 números aleatorios enteros y sepáralo en dos arrays de 5 elementos cada uno."
   ]
  },
  {
   "cell_type": "code",
   "execution_count": null,
   "metadata": {},
   "outputs": [
    {
     "name": "stdout",
     "output_type": "stream",
     "text": [
      "[array([ 5, 13, 18,  2,  4], dtype=int32), array([ 5, 12,  8, 12, 16], dtype=int32)]\n"
     ]
    }
   ],
   "source": [
    "a=np.array(np.random.randint(1,20,10))\n",
    "print(np.split(a,2))"
   ]
  },
  {
   "cell_type": "markdown",
   "metadata": {},
   "source": [
    "Crea una matriz de 3x3 con números aleatorios decimales entre 0 y 1."
   ]
  },
  {
   "cell_type": "code",
   "execution_count": 19,
   "metadata": {},
   "outputs": [
    {
     "name": "stdout",
     "output_type": "stream",
     "text": [
      "[[0.3983601  0.62536033 0.6038297 ]\n",
      " [0.55194619 0.21104843 0.52939738]\n",
      " [0.58643124 0.14000011 0.92429009]]\n"
     ]
    }
   ],
   "source": [
    "print(np.array(np.random.rand(3,3)))"
   ]
  },
  {
   "cell_type": "markdown",
   "metadata": {},
   "source": [
    "Crea un array de 10 números aleatorios enteros y selecciona 3 elementos al azar."
   ]
  },
  {
   "cell_type": "code",
   "execution_count": 23,
   "metadata": {},
   "outputs": [
    {
     "name": "stdout",
     "output_type": "stream",
     "text": [
      "Elementos Seleccionados al azar: [121 194  28]\n"
     ]
    }
   ],
   "source": [
    "a=np.array(np.random.randint(1,300,10))\n",
    "print(f\"Elementos Seleccionados al azar: {np.random.choice(a,3)}\")"
   ]
  },
  {
   "cell_type": "markdown",
   "metadata": {},
   "source": [
    "Crea un array de 10 números aleatorios enteros entre 0 y 100 y calcula la media."
   ]
  },
  {
   "cell_type": "code",
   "execution_count": 24,
   "metadata": {},
   "outputs": [
    {
     "name": "stdout",
     "output_type": "stream",
     "text": [
      "Media del array: 40.5 \n"
     ]
    }
   ],
   "source": [
    "a=np.array(np.random.randint(0,100,10))\n",
    "print(f\"Media del array: {np.mean(a)} \")"
   ]
  }
 ],
 "metadata": {
  "kernelspec": {
   "display_name": "Python 3",
   "language": "python",
   "name": "python3"
  },
  "language_info": {
   "codemirror_mode": {
    "name": "ipython",
    "version": 3
   },
   "file_extension": ".py",
   "mimetype": "text/x-python",
   "name": "python",
   "nbconvert_exporter": "python",
   "pygments_lexer": "ipython3",
   "version": "3.13.2"
  }
 },
 "nbformat": 4,
 "nbformat_minor": 2
}
